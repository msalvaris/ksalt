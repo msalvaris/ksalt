{
 "cells": [
  {
   "cell_type": "code",
   "execution_count": 3,
   "metadata": {},
   "outputs": [],
   "source": [
    "import azureml.core\n",
    "from azureml.core.compute import ComputeTarget, BatchAiCompute\n",
    "from azureml.core.compute_target import ComputeTargetException\n",
    "from azureml.core.runconfig import EnvironmentDefinition\n",
    "from azureml.train.estimator import Estimator\n",
    "from azureml.core.workspace import Workspace\n",
    "from azureml.core import Experiment\n",
    "from azureml.train.widgets import RunDetails\n",
    "\n",
    "import json\n",
    "import sys\n",
    "import os\n",
    "import shutil\n",
    "\n",
    "sys.path.append('src')\n",
    "\n",
    "from registry import azure_container_registry_for\n",
    "import batch_ai"
   ]
  },
  {
   "cell_type": "code",
   "execution_count": 4,
   "metadata": {},
   "outputs": [
    {
     "name": "stdout",
     "output_type": "stream",
     "text": [
      "SDK version: 0.1.65\n"
     ]
    }
   ],
   "source": [
    "print(\"SDK version:\", azureml.core.VERSION)"
   ]
  },
  {
   "cell_type": "code",
   "execution_count": 5,
   "metadata": {},
   "outputs": [
    {
     "name": "stdout",
     "output_type": "stream",
     "text": [
      "Found the config file in: /workspace/configs/azml_config.json\n"
     ]
    }
   ],
   "source": [
    "ws = Workspace.from_config(path='configs/azml_config.json')"
   ]
  },
  {
   "cell_type": "code",
   "execution_count": 6,
   "metadata": {},
   "outputs": [
    {
     "name": "stdout",
     "output_type": "stream",
     "text": [
      "Workspace name: mstest\n",
      "Azure region: eastus2\n",
      "Subscription id: edf507a2-6235-46c5-b560-fd463ba2e771\n",
      "Resource group: msazmlrg\n"
     ]
    }
   ],
   "source": [
    "print('Workspace name: ' + ws.name, \n",
    "      'Azure region: ' + ws.location, \n",
    "      'Subscription id: ' + ws.subscription_id, \n",
    "      'Resource group: ' + ws.resource_group, sep = '\\n')"
   ]
  },
  {
   "cell_type": "code",
   "execution_count": 7,
   "metadata": {},
   "outputs": [
    {
     "data": {
      "text/plain": [
       "'mstestacrhomithdz'"
      ]
     },
     "execution_count": 7,
     "metadata": {},
     "output_type": "execute_result"
    }
   ],
   "source": [
    "registry_name = ws.get_details()['containerRegistry'].split('/')[-1]\n",
    "registry_name"
   ]
  },
  {
   "cell_type": "code",
   "execution_count": 8,
   "metadata": {},
   "outputs": [],
   "source": [
    "azr = azure_container_registry_for(ws.resource_group, registry_name, subscription_id=ws.subscription_id)"
   ]
  },
  {
   "cell_type": "code",
   "execution_count": 9,
   "metadata": {},
   "outputs": [],
   "source": [
    "compute_target = batch_ai.cluster(ws, \"gpucluster\")"
   ]
  },
  {
   "cell_type": "code",
   "execution_count": 10,
   "metadata": {},
   "outputs": [],
   "source": [
    "from azureml.core.compute import ComputeTarget, BatchAiCompute"
   ]
  },
  {
   "cell_type": "code",
   "execution_count": 11,
   "metadata": {},
   "outputs": [],
   "source": [
    "project_folder = './batchai_test'\n",
    "os.makedirs(project_folder, exist_ok=True)"
   ]
  },
  {
   "cell_type": "code",
   "execution_count": 43,
   "metadata": {},
   "outputs": [
    {
     "name": "stdout",
     "output_type": "stream",
     "text": [
      "Overwriting test_batch.py\n"
     ]
    }
   ],
   "source": [
    "%%writefile test_batch.py\n",
    "import subprocess\n",
    "from pprint import pprint\n",
    "\n",
    "if __name__=='__main__':\n",
    "    results = subprocess.run(['printenv'], stdout=subprocess.PIPE, stderr=subprocess.STDOUT)\n",
    "    pprint(results.stdout.decode('ascii'))\n",
    "    results = subprocess.run(['df', '-h'], stdout=subprocess.PIPE, stderr=subprocess.STDOUT)\n",
    "    pprint(results.stdout.decode('ascii'))\n",
    "    results = subprocess.run(['pwd'], stdout=subprocess.PIPE, stderr=subprocess.STDOUT)\n",
    "    pprint(results.stdout.decode('ascii'))\n",
    "    results = subprocess.run(['ls', '-ltra', 'azmlblob'], stdout=subprocess.PIPE, stderr=subprocess.STDOUT)\n",
    "    pprint(results.stdout.decode('ascii'))"
   ]
  },
  {
   "cell_type": "code",
   "execution_count": 13,
   "metadata": {},
   "outputs": [
    {
     "name": "stdout",
     "output_type": "stream",
     "text": [
      "('CUDNN_VERSION=7.0.5.15-1+cuda9.0\\n'\n",
      " 'HOSTNAME=77cc5dccb9af\\n'\n",
      " 'NVIDIA_REQUIRE_CUDA=cuda>=9.0\\n'\n",
      " 'TERM=xterm-color\\n'\n",
      " 'LIBRARY_PATH=/usr/local/cuda/lib64/stubs\\n'\n",
      " 'LC_ALL=en_US.UTF-8\\n'\n",
      " 'NVIDIA_VISIBLE_DEVICES=all\\n'\n",
      " 'LD_LIBRARY_PATH=/usr/local/nvidia/lib:/usr/local/nvidia/lib64\\n'\n",
      " 'NVIDIA_DRIVER_CAPABILITIES=compute,utility\\n'\n",
      " 'PATH=/opt/conda/envs/py3.6/bin:/opt/conda/envs/py3.6/bin:/opt/conda/bin:/usr/local/nvidia/bin:/usr/local/cuda/bin:/usr/local/sbin:/usr/local/bin:/usr/sbin:/usr/bin:/sbin:/bin\\n'\n",
      " 'PWD=/workspace\\n'\n",
      " 'ENV_NAME=py3.6\\n'\n",
      " 'LANG=en_US.UTF-8\\n'\n",
      " 'PYTORCH_VERSION=0.4.0\\n'\n",
      " 'CUDA_PKG_VERSION=9-0=9.0.176-1\\n'\n",
      " 'CUDA_VERSION=9.0.176\\n'\n",
      " 'SHLVL=1\\n'\n",
      " 'HOME=/root\\n'\n",
      " 'LANGUAGE=en_US:en\\n'\n",
      " 'NCCL_VERSION=2.2.13-1+cuda9.0\\n'\n",
      " '_=/opt/conda/envs/py3.6/bin/jupyter\\n'\n",
      " 'JPY_PARENT_PID=1\\n'\n",
      " 'CLICOLOR=1\\n'\n",
      " 'PAGER=cat\\n'\n",
      " 'GIT_PAGER=cat\\n'\n",
      " 'MPLBACKEND=module://ipykernel.pylab.backend_inline\\n')\n",
      "('Filesystem      Size  Used Avail Use% Mounted on\\n'\n",
      " 'overlay          99G   69G   25G  74% /\\n'\n",
      " 'tmpfs            64M     0   64M   0% /dev\\n'\n",
      " 'tmpfs           221G     0  221G   0% /sys/fs/cgroup\\n'\n",
      " '/dev/sdc1        99G   69G   25G  74% /workspace\\n'\n",
      " 'shm              64M     0   64M   0% /dev/shm\\n'\n",
      " '/dev/sda1       194G   58G  137G  30% /usr/local/nvidia\\n'\n",
      " 'tmpfs           221G     0  221G   0% /sys/firmware\\n')\n",
      "'/workspace\\n'\n",
      "('total 312\\n'\n",
      " '-rw-rw-r--  1 1003 1003   1203 Oct 11 10:05 .gitignore\\n'\n",
      " '-rw-rw-r--  1 1003 1003   1038 Oct 11 10:05 Makefile\\n'\n",
      " 'drwxrwxr-x  2 1003 1003   4096 Oct 11 10:05 configs\\n'\n",
      " 'drwxr-xr-x  2 root root   4096 Oct 11 10:44 outputs\\n'\n",
      " 'drwxr-xr-x  4 root root   4096 Oct 11 13:22 hymenoptera_data\\n'\n",
      " 'drwxr-xr-x  4 root root   4096 Oct 12 11:22 pytorch-hymenoptera\\n'\n",
      " 'drwxrwxr-x  2 1003 1003   4096 Oct 12 14:31 Docker\\n'\n",
      " 'drwxr-xr-x  1 root root   4096 Oct 12 14:51 ..\\n'\n",
      " 'drwxrwxr-x  8 1003 1003   4096 Oct 14 14:00 .git\\n'\n",
      " 'drwxrwxr-x  3 1003 1003   4096 Oct 14 14:03 src\\n'\n",
      " 'drwxr-xr-x  4 root root   4096 Oct 14 14:20 batchai_test\\n'\n",
      " '-rw-r--r--  1 root root   6062 Oct 14 16:02 pytorch_train.py\\n'\n",
      " 'drwxr-xr-x  4 root root   4096 Oct 14 17:39 batchai_hyperdrive\\n'\n",
      " '-rw-r--r--  1 root root  20800 Oct 15 08:34 BatchAITest-Docker.ipynb\\n'\n",
      " '-rw-r--r--  1 root root 182842 Oct 15 08:35 BatchAIHyperdrive.ipynb\\n'\n",
      " 'drwxrwxr-x 13 1003 1003   4096 Oct 15 08:38 MachineLearningNotebooks\\n'\n",
      " '-rw-r--r--  1 root root  14453 Oct 15 09:46 BatchAITest.ipynb\\n'\n",
      " 'drwxr-xr-x  2 root root   4096 Oct 15 09:46 .ipynb_checkpoints\\n'\n",
      " '-rw-r--r--  1 root root  16826 Oct 15 10:47 BatchAITest-Datastores.ipynb\\n'\n",
      " 'drwxrwxr-x 13 1003 1003   4096 Oct 15 10:47 .\\n'\n",
      " '-rw-r--r--  1 root root    612 Oct 15 10:50 test_batch.py\\n')\n"
     ]
    }
   ],
   "source": [
    "%run test_batch.py"
   ]
  },
  {
   "cell_type": "code",
   "execution_count": 44,
   "metadata": {},
   "outputs": [
    {
     "data": {
      "text/plain": [
       "'./batchai_test/test_batch.py'"
      ]
     },
     "execution_count": 44,
     "metadata": {},
     "output_type": "execute_result"
    }
   ],
   "source": [
    "shutil.copy('test_batch.py', project_folder)"
   ]
  },
  {
   "cell_type": "code",
   "execution_count": 45,
   "metadata": {},
   "outputs": [],
   "source": [
    "env = EnvironmentDefinition()\n",
    "env.python.user_managed_dependencies=True\n",
    "env.docker.enabled = True\n",
    "env.docker.gpu_support = True\n",
    "env.docker.shared_volumes = True\n",
    "env.docker.base_image = \"azml\"\n",
    "env.docker.base_image_registry=azr"
   ]
  },
  {
   "cell_type": "code",
   "execution_count": 16,
   "metadata": {},
   "outputs": [],
   "source": [
    "from azureml.core import Datastore"
   ]
  },
  {
   "cell_type": "code",
   "execution_count": 17,
   "metadata": {},
   "outputs": [
    {
     "data": {
      "text/plain": [
       "{'id': '/subscriptions/edf507a2-6235-46c5-b560-fd463ba2e771/resourceGroups/msazmlrg/providers/Microsoft.MachineLearningServices/workspaces/mstest',\n",
       " 'name': 'mstest',\n",
       " 'location': 'eastus2',\n",
       " 'type': 'Microsoft.MachineLearningServices/workspaces',\n",
       " 'description': '',\n",
       " 'friendlyName': 'mstest',\n",
       " 'containerRegistry': '/subscriptions/edf507a2-6235-46c5-b560-fd463ba2e771/resourcegroups/msazmlrg/providers/microsoft.containerregistry/registries/mstestacrhomithdz',\n",
       " 'keyVault': '/subscriptions/edf507a2-6235-46c5-b560-fd463ba2e771/resourcegroups/msazmlrg/providers/microsoft.keyvault/vaults/mstestkeyvaultsidoqlor',\n",
       " 'applicationInsights': '/subscriptions/edf507a2-6235-46c5-b560-fd463ba2e771/resourcegroups/msazmlrg/providers/microsoft.insights/components/mstestinsightsvullbbcb',\n",
       " 'batchaiWorkspace': '/subscriptions/edf507a2-6235-46c5-b560-fd463ba2e771/resourcegroups/msazmlrg/providers/microsoft.batchai/workspaces/mstestbatchai_nurisqhl',\n",
       " 'identityPrincipalId': '5249feb8-f44e-4861-9dd4-da9cf0e09553',\n",
       " 'identityTenantId': '72f988bf-86f1-41af-91ab-2d7cd011db47',\n",
       " 'identityType': 'SystemAssigned',\n",
       " 'storageAccount': '/subscriptions/edf507a2-6235-46c5-b560-fd463ba2e771/resourcegroups/msazmlrg/providers/microsoft.storage/storageaccounts/msteststoragebnqmxwim'}"
      ]
     },
     "execution_count": 17,
     "metadata": {},
     "output_type": "execute_result"
    }
   ],
   "source": [
    "ws.get_details()"
   ]
  },
  {
   "cell_type": "code",
   "execution_count": 22,
   "metadata": {},
   "outputs": [],
   "source": [
    "default_ds=ws.get_default_datastore()"
   ]
  },
  {
   "cell_type": "code",
   "execution_count": 53,
   "metadata": {},
   "outputs": [
    {
     "data": {
      "text/plain": [
       "'azureml-filestore-8c170506-e529-4ebe-a306-a7789c1dbdbf'"
      ]
     },
     "execution_count": 53,
     "metadata": {},
     "output_type": "execute_result"
    }
   ],
   "source": [
    "default_ds."
   ]
  },
  {
   "cell_type": "code",
   "execution_count": 31,
   "metadata": {},
   "outputs": [],
   "source": [
    "ds = Datastore.register_azure_blob_container(workspace=ws, \n",
    "                                             datastore_name='azmlblob', \n",
    "                                             container_name='msazmlblob',\n",
    "                                             account_name=default_ds.account_name, \n",
    "                                             account_key=default_ds.account_key,\n",
    "                                             create_if_not_exists=True)"
   ]
  },
  {
   "cell_type": "code",
   "execution_count": 34,
   "metadata": {},
   "outputs": [
    {
     "data": {
      "text/plain": [
       "$AZUREML_DATAREFERENCE_7911b54468c34a479b6fc854267eb29d"
      ]
     },
     "execution_count": 34,
     "metadata": {},
     "output_type": "execute_result"
    }
   ],
   "source": [
    "ds.upload('batchai_test', target_path='batchai_test', show_progress=True)"
   ]
  },
  {
   "cell_type": "code",
   "execution_count": 36,
   "metadata": {},
   "outputs": [],
   "source": [
    "ds_data = ds.path('batchai_test')"
   ]
  },
  {
   "cell_type": "code",
   "execution_count": 30,
   "metadata": {},
   "outputs": [
    {
     "name": "stdout",
     "output_type": "stream",
     "text": [
      "AzureFile msteststoragebnqmxwim azureml-filestore-8c170506-e529-4ebe-a306-a7789c1dbdbf\n"
     ]
    },
    {
     "name": "stderr",
     "output_type": "stream",
     "text": [
      "Target already exists. Skipping upload for batchai_test/test_batch.py\n",
      "Target already exists. Skipping upload for batchai_test/.amlignore\n",
      "Target already exists. Skipping upload for batchai_test/aml_config/docker.runconfig\n",
      "Target already exists. Skipping upload for batchai_test/aml_config/local.runconfig\n",
      "Target already exists. Skipping upload for batchai_test/aml_config/conda_dependencies.yml\n",
      "Target already exists. Skipping upload for batchai_test/aml_config/project.json\n"
     ]
    },
    {
     "name": "stdout",
     "output_type": "stream",
     "text": [
      "$AZUREML_DATAREFERENCE_dcf983a37fb441ef8cb8d4ff7d40ab93\n"
     ]
    }
   ],
   "source": [
    "# ds = ws.get_default_datastore()\n",
    "# print(ds.datastore_type, ds.account_name, ds.container_name)\n",
    "# ds.upload(src_dir='./batchai_test', target_path='batchai_test')\n",
    "# path_on_datastore = 'batchai_test'\n",
    "# ds_data = ds.path(path_on_datastore)\n",
    "# print(ds_data)"
   ]
  },
  {
   "cell_type": "code",
   "execution_count": 46,
   "metadata": {},
   "outputs": [],
   "source": [
    "estimator = Estimator(source_directory=project_folder, \n",
    "                    compute_target=compute_target,\n",
    "                    entry_script='test_batch.py',\n",
    "                    environment_definition=env,\n",
    "                     inputs=[ds_data.as_download()])"
   ]
  },
  {
   "cell_type": "code",
   "execution_count": 47,
   "metadata": {},
   "outputs": [],
   "source": [
    "experiment_name='batchai-test'\n",
    "experiment = Experiment(ws, name=experiment_name)"
   ]
  },
  {
   "cell_type": "code",
   "execution_count": 48,
   "metadata": {},
   "outputs": [],
   "source": [
    "run = experiment.submit(estimator)"
   ]
  },
  {
   "cell_type": "code",
   "execution_count": 49,
   "metadata": {},
   "outputs": [
    {
     "name": "stdout",
     "output_type": "stream",
     "text": [
      "{\n",
      "    \"runId\": \"batchai-test_1539601806656\",\n",
      "    \"target\": \"gpucluster\",\n",
      "    \"status\": \"Running\",\n",
      "    \"startTimeUtc\": \"2018-10-15T11:10:08.302723Z\",\n",
      "    \"properties\": {\n",
      "        \"azureml.runsource\": \"experiment\",\n",
      "        \"ContentSnapshotId\": \"4cf97da6-880e-4bd8-a166-ad0009835e60\"\n",
      "    },\n",
      "    \"runDefinition\": {\n",
      "        \"Script\": \"test_batch.py\",\n",
      "        \"Arguments\": [],\n",
      "        \"Framework\": 0,\n",
      "        \"Target\": \"gpucluster\",\n",
      "        \"DataReferences\": {\n",
      "            \"bdcd8374a6d0490ab035824868d96ea9\": {\n",
      "                \"DataStoreName\": \"azmlblob\",\n",
      "                \"Mode\": \"Download\",\n",
      "                \"PathOnDataStore\": \"batchai_test\",\n",
      "                \"PathOnCompute\": null,\n",
      "                \"Overwrite\": false\n",
      "            }\n",
      "        },\n",
      "        \"JobName\": null,\n",
      "        \"AutoPrepareEnvironment\": true,\n",
      "        \"MaxRunDurationSeconds\": null,\n",
      "        \"Environment\": {\n",
      "            \"Python\": {\n",
      "                \"InterpreterPath\": \"python\",\n",
      "                \"UserManagedDependencies\": true,\n",
      "                \"CondaDependencies\": {\n",
      "                    \"name\": \"project_environment\",\n",
      "                    \"dependencies\": [\n",
      "                        \"python=3.6.2\",\n",
      "                        {\n",
      "                            \"pip\": [\n",
      "                                \"azureml-defaults\"\n",
      "                            ]\n",
      "                        }\n",
      "                    ]\n",
      "                },\n",
      "                \"CondaDependenciesFile\": null\n",
      "            },\n",
      "            \"EnvironmentVariables\": {\n",
      "                \"EXAMPLE_ENV_VAR\": \"EXAMPLE_VALUE\"\n",
      "            },\n",
      "            \"Docker\": {\n",
      "                \"BaseImage\": \"azml\",\n",
      "                \"Enabled\": true,\n",
      "                \"SharedVolumes\": true,\n",
      "                \"GpuSupport\": true,\n",
      "                \"Arguments\": [],\n",
      "                \"BaseImageRegistry\": {\n",
      "                    \"Address\": \"mstestacrhomithdz.azurecr.io\",\n",
      "                    \"Username\": \"mstestacrhomithdz\",\n",
      "                    \"Password\": \"tAkDPv2nZdGaBzBIT9fsIdJGGLDME+zw\"\n",
      "                }\n",
      "            },\n",
      "            \"Spark\": {\n",
      "                \"Repositories\": [\n",
      "                    \"https://mmlspark.azureedge.net/maven\"\n",
      "                ],\n",
      "                \"Packages\": [\n",
      "                    {\n",
      "                        \"Group\": \"com.microsoft.ml.spark\",\n",
      "                        \"Artifact\": \"mmlspark_2.11\",\n",
      "                        \"Version\": \"0.12\"\n",
      "                    }\n",
      "                ],\n",
      "                \"PrecachePackages\": false\n",
      "            }\n",
      "        },\n",
      "        \"History\": {\n",
      "            \"OutputCollection\": true\n",
      "        },\n",
      "        \"Spark\": {\n",
      "            \"Configuration\": {\n",
      "                \"spark.app.name\": \"Azure ML Experiment\",\n",
      "                \"spark.yarn.maxAppAttempts\": \"1\"\n",
      "            }\n",
      "        },\n",
      "        \"BatchAi\": {\n",
      "            \"NodeCount\": 1\n",
      "        },\n",
      "        \"Tensorflow\": {\n",
      "            \"WorkerCount\": 1,\n",
      "            \"ParameterServerCount\": 1\n",
      "        },\n",
      "        \"Mpi\": {\n",
      "            \"ProcessCountPerNode\": 1\n",
      "        },\n",
      "        \"Hdi\": {\n",
      "            \"YarnDeployMode\": 2\n",
      "        },\n",
      "        \"ContainerInstance\": {\n",
      "            \"Region\": null,\n",
      "            \"CpuCores\": 1,\n",
      "            \"MemoryGb\": 4\n",
      "        },\n",
      "        \"ExposedPorts\": null,\n",
      "        \"PrepareEnvironment\": null\n",
      "    },\n",
      "    \"logFiles\": {}\n",
      "}\n"
     ]
    }
   ],
   "source": [
    "print(json.dumps(run.get_details(), indent=4))"
   ]
  },
  {
   "cell_type": "code",
   "execution_count": 50,
   "metadata": {},
   "outputs": [
    {
     "data": {
      "text/plain": [
       "_UserRun()"
      ]
     },
     "metadata": {},
     "output_type": "display_data"
    }
   ],
   "source": [
    "RunDetails(run).show()"
   ]
  },
  {
   "cell_type": "code",
   "execution_count": null,
   "metadata": {},
   "outputs": [],
   "source": []
  }
 ],
 "metadata": {
  "kernelspec": {
   "display_name": "Python 3",
   "language": "python",
   "name": "python3"
  },
  "language_info": {
   "codemirror_mode": {
    "name": "ipython",
    "version": 3
   },
   "file_extension": ".py",
   "mimetype": "text/x-python",
   "name": "python",
   "nbconvert_exporter": "python",
   "pygments_lexer": "ipython3",
   "version": "3.6.6"
  }
 },
 "nbformat": 4,
 "nbformat_minor": 2
}
