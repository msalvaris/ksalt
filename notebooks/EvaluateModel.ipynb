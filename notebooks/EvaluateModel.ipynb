{
 "cells": [
  {
   "cell_type": "code",
   "execution_count": null,
   "metadata": {},
   "outputs": [],
   "source": [
    "%load_ext autoreload\n",
    "%autoreload 2\n",
    "\n",
    "import matplotlib.pyplot as plt\n",
    "\n",
    "plt.style.use(\"seaborn-white\")\n",
    "import seaborn as sns\n",
    "\n",
    "sns.set_style(\"white\")\n",
    "\n",
    "from sklearn.model_selection import train_test_split\n",
    "\n",
    "from torch import nn\n",
    "\n",
    "from tqdm import tqdm\n",
    "from torch.nn import Sequential"
   ]
  },
  {
   "cell_type": "code",
   "execution_count": null,
   "metadata": {},
   "outputs": [],
   "source": [
    "from image_processing import upsample, downsample\n",
    "from data import prepare_data, test_images_path, load_images_as_arrays, TGSSaltDataset\n",
    "from visualisation import (\n",
    "    plot_coverage_and_coverage_class,\n",
    "    scatter_coverage_and_coverage_class,\n",
    "    plot_depth_distributions,\n",
    "    plot_predictions,\n",
    "    plot_images,\n",
    ")\n",
    "from model import model_path, save_checkpoint, update_state\n",
    "from metrics import iou_metric_batch, my_iou_metric\n",
    "from toolz import compose\n",
    "from data import rle_encode\n",
    "import datetime\n",
    "import os\n",
    "import numpy as np\n",
    "import matplotlib.pyplot as plt\n",
    "import pandas as pd\n",
    "import torch\n",
    "\n",
    "from torch.utils import data\n",
    "\n",
    "from resnetlike import UNetResNet\n",
    "from training import train, test\n",
    "from collections import defaultdict\n",
    "import logging\n",
    "import random\n",
    "from utils import create_optimizer, tboard_log_path\n",
    "import uuid\n",
    "import itertools as it\n",
    "from operator import itemgetter\n",
    "import shutil\n",
    "from losses import lovasz_hinge"
   ]
  },
  {
   "cell_type": "code",
   "execution_count": null,
   "metadata": {},
   "outputs": [],
   "source": [
    "now = datetime.datetime.now()"
   ]
  },
  {
   "cell_type": "code",
   "execution_count": null,
   "metadata": {},
   "outputs": [],
   "source": [
    "img_size_target = 101\n",
    "batch_size = 128\n",
    "learning_rate = 0.1\n",
    "epochs = 70\n",
    "num_workers = 0\n",
    "seed = 42\n",
    "num_cycles = (\n",
    "    6\n",
    ")  # Using Cosine Annealing with warm restarts, the number of times to oscillate\n",
    "notebook_id = f\"{now:%d%b%Y}_{uuid.uuid4()}\"\n",
    "base_channels = 32\n",
    "optim_config = {\n",
    "    \"optimizer\": \"sgd\",\n",
    "    \"base_lr\": 0.01,\n",
    "    \"momentum\": 0.9,\n",
    "    \"weight_decay\": 1e-4,\n",
    "    \"nesterov\": True,\n",
    "    \"epochs\": epochs,\n",
    "    \"scheduler\": \"cosine\",\n",
    "    \"lr_min\": 0,\n",
    "}"
   ]
  },
  {
   "cell_type": "code",
   "execution_count": null,
   "metadata": {},
   "outputs": [],
   "source": [
    "logging.basicConfig(level=logging.INFO)\n",
    "torch.backends.cudnn.benchmark = True\n",
    "logger = logging.getLogger(__name__)\n",
    "logger.info(f\"Started {now}\")"
   ]
  },
  {
   "cell_type": "code",
   "execution_count": null,
   "metadata": {},
   "outputs": [],
   "source": [
    "torch.manual_seed(seed)\n",
    "np.random.seed(seed)\n",
    "random.seed(seed)"
   ]
  },
  {
   "cell_type": "code",
   "execution_count": null,
   "metadata": {},
   "outputs": [],
   "source": [
    "model = UNetResNet(1, base_channels)"
   ]
  },
  {
   "cell_type": "code",
   "execution_count": null,
   "metadata": {},
   "outputs": [],
   "source": [
    "device = torch.device(\"cuda:0\")\n",
    "model = nn.DataParallel(model)\n",
    "model.to(device)"
   ]
  },
  {
   "cell_type": "code",
   "execution_count": null,
   "metadata": {},
   "outputs": [],
   "source": [
    "filename = os.path.join(model_path(), \"model_lovasz_best_state.pth\")\n",
    "checkpoint = torch.load(filename)\n",
    "model.load_state_dict(checkpoint[\"state_dict\"])"
   ]
  },
  {
   "cell_type": "code",
   "execution_count": null,
   "metadata": {},
   "outputs": [],
   "source": [
    "def predict_tta(model, image):  # predict both orginal and reflect x\n",
    "    with torch.no_grad():\n",
    "        image_reflect = np.flip(image.numpy(), axis=3).copy()\n",
    "        with torch.cuda.device(0):\n",
    "            image_gpu = image.type(torch.float).cuda()\n",
    "            image_reflect_gpu = torch.as_tensor(image_reflect).type(torch.float).cuda()\n",
    "\n",
    "        outputs = model(image_gpu)\n",
    "        outputs_reflect = model(image_reflect_gpu)\n",
    "        return (\n",
    "            outputs.cpu().numpy() + np.flip(outputs_reflect.cpu().numpy(), axis=3)\n",
    "        ) / 2"
   ]
  },
  {
   "cell_type": "code",
   "execution_count": null,
   "metadata": {},
   "outputs": [],
   "source": [
    "model.eval()\n",
    "predictions = [predict_tta(model, image) for image, _ in tqdm(val_data_loader)]\n",
    "\n",
    "preds_valid = np.concatenate(predictions, axis=0).squeeze()\n",
    "downsample_to = downsample(128, 101)\n",
    "preds_valid = np.array(list(map(downsample_to, preds_valid)))\n",
    "plot_predictions(\n",
    "    train_df, preds_valid, ids_valid, max_images=15, grid_width=5, figsize=(16, 10)\n",
    ")"
   ]
  },
  {
   "cell_type": "code",
   "execution_count": null,
   "metadata": {},
   "outputs": [],
   "source": [
    "## Scoring for last model, choose threshold using validation data\n",
    "thresholds = np.linspace(0.3, 0.7, 31)\n",
    "y_valid_down = np.array(list(map(downsample_to, y_valid.squeeze())))\n",
    "thresholds = np.log(thresholds / (1 - thresholds))\n",
    "\n",
    "ious = list(\n",
    "    map(\n",
    "        lambda th: iou_metric_batch(y_valid_down, np.int32(preds_valid > th)),\n",
    "        tqdm(thresholds),\n",
    "    )\n",
    ")\n",
    "\n",
    "threshold_best_index = np.argmax(ious)\n",
    "iou_best = ious[threshold_best_index]\n",
    "threshold_best = thresholds[threshold_best_index]"
   ]
  },
  {
   "cell_type": "code",
   "execution_count": null,
   "metadata": {},
   "outputs": [],
   "source": [
    "plt.plot(thresholds, ious)\n",
    "plt.plot(threshold_best, iou_best, \"xr\", label=\"Best threshold\")\n",
    "plt.xlabel(\"Threshold\")\n",
    "plt.ylabel(\"IoU\")\n",
    "plt.title(\"Threshold vs IoU ({}, {})\".format(threshold_best, iou_best))"
   ]
  },
  {
   "cell_type": "code",
   "execution_count": null,
   "metadata": {},
   "outputs": [],
   "source": [
    "preds_thresh_iter = map(\n",
    "    lambda pred: np.array(np.round(pred > threshold_best), dtype=np.float32),\n",
    "    preds_valid,\n",
    ")\n",
    "\n",
    "plot_predictions(\n",
    "    train_df, preds_thresh, ids_valid, max_images=15, grid_width=5, figsize=(16, 10)\n",
    ")\n",
    "preds_thresh = np.array(list(map(downsample_to, preds_thresh_iter)))\n",
    "plt.legend()"
   ]
  },
  {
   "cell_type": "code",
   "execution_count": null,
   "metadata": {},
   "outputs": [],
   "source": [
    "x_test = load_images_as_arrays(test_df.index, test_images_path())\n",
    "x_test = list(map(upsample_to, x_test))\n",
    "x_test = np.array(x_test).reshape(-1, 1, img_size_target, img_size_target)"
   ]
  },
  {
   "cell_type": "code",
   "execution_count": null,
   "metadata": {},
   "outputs": [],
   "source": [
    "dataset_test = TGSSaltDataset(x_test, is_test=True)"
   ]
  },
  {
   "cell_type": "code",
   "execution_count": null,
   "metadata": {},
   "outputs": [],
   "source": [
    "test_data_loader = data.DataLoader(\n",
    "    dataset_test,\n",
    "    batch_size=batch_size,\n",
    "    shuffle=False,\n",
    "    num_workers=num_workers,\n",
    "    pin_memory=True,\n",
    "    drop_last=False,\n",
    ")"
   ]
  },
  {
   "cell_type": "code",
   "execution_count": null,
   "metadata": {},
   "outputs": [],
   "source": [
    "model.eval()\n",
    "predictions = [predict_tta(model, image) for image in tqdm(test_data_loader)]"
   ]
  },
  {
   "cell_type": "code",
   "execution_count": null,
   "metadata": {},
   "outputs": [],
   "source": [
    "preds_test = np.concatenate(predictions, axis=0).squeeze()"
   ]
  },
  {
   "cell_type": "code",
   "execution_count": null,
   "metadata": {},
   "outputs": [],
   "source": [
    "transform = compose(rle_encode, np.round, downsample_to, lambda x: x > threshold_best)"
   ]
  },
  {
   "cell_type": "code",
   "execution_count": null,
   "metadata": {},
   "outputs": [],
   "source": [
    "pred_dict = {\n",
    "    idx: transform(preds_test[i]) for i, idx in enumerate(tqdm(test_df.index.values))\n",
    "}"
   ]
  },
  {
   "cell_type": "code",
   "execution_count": null,
   "metadata": {},
   "outputs": [],
   "source": [
    "sub = pd.DataFrame.from_dict(pred_dict, orient=\"index\")\n",
    "sub.index.names = [\"id\"]\n",
    "sub.columns = [\"rle_mask\"]\n",
    "filename = os.path.join(model_path(), f\"submission_{now:%d%b%Y_%H}.csv\")\n",
    "sub.to_csv(filename)"
   ]
  }
 ],
 "metadata": {
  "jupytext_formats": "ipynb,py",
  "kernelspec": {
   "display_name": "Python 3",
   "language": "python",
   "name": "python3"
  },
  "language_info": {
   "codemirror_mode": {
    "name": "ipython",
    "version": 3
   },
   "file_extension": ".py",
   "mimetype": "text/x-python",
   "name": "python",
   "nbconvert_exporter": "python",
   "pygments_lexer": "ipython3",
   "version": "3.6.6"
  }
 },
 "nbformat": 4,
 "nbformat_minor": 2
}
